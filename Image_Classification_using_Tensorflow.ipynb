{
  "nbformat": 4,
  "nbformat_minor": 0,
  "metadata": {
    "colab": {
      "provenance": [],
      "machine_shape": "hm",
      "gpuType": "V100",
      "toc_visible": true,
      "include_colab_link": true
    },
    "kernelspec": {
      "name": "python3",
      "display_name": "Python 3"
    },
    "language_info": {
      "name": "python"
    },
    "accelerator": "GPU"
  },
  "cells": [
    {
      "cell_type": "markdown",
      "metadata": {
        "id": "view-in-github",
        "colab_type": "text"
      },
      "source": [
        "<a href=\"https://colab.research.google.com/github/touseefshoonya/Object-detection-using-TF/blob/main/Image_Classification_using_Tensorflow.ipynb\" target=\"_parent\"><img src=\"https://colab.research.google.com/assets/colab-badge.svg\" alt=\"Open In Colab\"/></a>"
      ]
    },
    {
      "cell_type": "code",
      "execution_count": null,
      "metadata": {
        "colab": {
          "base_uri": "https://localhost:8080/"
        },
        "id": "UbwaSP-qJduf",
        "outputId": "2d5f7501-e2ac-4537-dcb2-d706f1dd7efa"
      },
      "outputs": [
        {
          "output_type": "stream",
          "name": "stdout",
          "text": [
            "Tue Apr  2 04:54:51 2024       \n",
            "+---------------------------------------------------------------------------------------+\n",
            "| NVIDIA-SMI 535.104.05             Driver Version: 535.104.05   CUDA Version: 12.2     |\n",
            "|-----------------------------------------+----------------------+----------------------+\n",
            "| GPU  Name                 Persistence-M | Bus-Id        Disp.A | Volatile Uncorr. ECC |\n",
            "| Fan  Temp   Perf          Pwr:Usage/Cap |         Memory-Usage | GPU-Util  Compute M. |\n",
            "|                                         |                      |               MIG M. |\n",
            "|=========================================+======================+======================|\n",
            "|   0  Tesla V100-SXM2-16GB           Off | 00000000:00:04.0 Off |                    0 |\n",
            "| N/A   33C    P0              24W / 300W |      0MiB / 16384MiB |      0%      Default |\n",
            "|                                         |                      |                  N/A |\n",
            "+-----------------------------------------+----------------------+----------------------+\n",
            "                                                                                         \n",
            "+---------------------------------------------------------------------------------------+\n",
            "| Processes:                                                                            |\n",
            "|  GPU   GI   CI        PID   Type   Process name                            GPU Memory |\n",
            "|        ID   ID                                                             Usage      |\n",
            "|=======================================================================================|\n",
            "|  No running processes found                                                           |\n",
            "+---------------------------------------------------------------------------------------+\n"
          ]
        }
      ],
      "source": [
        "!nvidia-smi"
      ]
    },
    {
      "cell_type": "code",
      "source": [
        "import tensorflow as tf"
      ],
      "metadata": {
        "id": "kAmAwZ4RKNQ7"
      },
      "execution_count": null,
      "outputs": []
    },
    {
      "cell_type": "code",
      "source": [
        "tf.__version__"
      ],
      "metadata": {
        "colab": {
          "base_uri": "https://localhost:8080/",
          "height": 35
        },
        "id": "pFEsEM_bKXvT",
        "outputId": "917415b1-88c8-4f54-c998-a50f2de9f999"
      },
      "execution_count": null,
      "outputs": [
        {
          "output_type": "execute_result",
          "data": {
            "text/plain": [
              "'2.15.0'"
            ],
            "application/vnd.google.colaboratory.intrinsic+json": {
              "type": "string"
            }
          },
          "metadata": {},
          "execution_count": 3
        }
      ]
    },
    {
      "cell_type": "code",
      "source": [
        "import keras"
      ],
      "metadata": {
        "id": "7iU59hgiKu1F"
      },
      "execution_count": null,
      "outputs": []
    },
    {
      "cell_type": "code",
      "source": [
        "keras.__version__"
      ],
      "metadata": {
        "colab": {
          "base_uri": "https://localhost:8080/",
          "height": 35
        },
        "id": "XiwPrxmDKupB",
        "outputId": "5565693f-d1bd-4eb5-c584-62b5b345f58b"
      },
      "execution_count": null,
      "outputs": [
        {
          "output_type": "execute_result",
          "data": {
            "text/plain": [
              "'2.15.0'"
            ],
            "application/vnd.google.colaboratory.intrinsic+json": {
              "type": "string"
            }
          },
          "metadata": {},
          "execution_count": 8
        }
      ]
    },
    {
      "cell_type": "code",
      "source": [
        "%pwd"
      ],
      "metadata": {
        "colab": {
          "base_uri": "https://localhost:8080/",
          "height": 35
        },
        "id": "DMw97_SFM6Yv",
        "outputId": "6a354325-8a10-49c9-8906-9b2b8d7dec08"
      },
      "execution_count": null,
      "outputs": [
        {
          "output_type": "execute_result",
          "data": {
            "text/plain": [
              "'/content'"
            ],
            "application/vnd.google.colaboratory.intrinsic+json": {
              "type": "string"
            }
          },
          "metadata": {},
          "execution_count": 9
        }
      ]
    },
    {
      "cell_type": "code",
      "source": [
        "%cd /content/drive/MyDrive/005_BOKTIAR_AHMED_BAPPY/My_classes/Youtube-Live/CV-hands-on"
      ],
      "metadata": {
        "colab": {
          "base_uri": "https://localhost:8080/"
        },
        "id": "Xn8zNiI2LOKK",
        "outputId": "01d3475b-b72c-46ec-ea54-d3d563cf70cf"
      },
      "execution_count": null,
      "outputs": [
        {
          "output_type": "stream",
          "name": "stdout",
          "text": [
            "/content/drive/MyDrive/005_BOKTIAR_AHMED_BAPPY/My_classes/Youtube-Live/CV-hands-on\n"
          ]
        }
      ]
    },
    {
      "cell_type": "code",
      "source": [
        "%pwd"
      ],
      "metadata": {
        "colab": {
          "base_uri": "https://localhost:8080/",
          "height": 35
        },
        "id": "KlVqRwqhNAm1",
        "outputId": "c709bb8f-e732-4d60-d830-8754fd078493"
      },
      "execution_count": null,
      "outputs": [
        {
          "output_type": "execute_result",
          "data": {
            "text/plain": [
              "'/content/drive/MyDrive/005_BOKTIAR_AHMED_BAPPY/My_classes/Youtube-Live/CV-hands-on'"
            ],
            "application/vnd.google.colaboratory.intrinsic+json": {
              "type": "string"
            }
          },
          "metadata": {},
          "execution_count": 11
        }
      ]
    },
    {
      "cell_type": "code",
      "source": [
        "%ls"
      ],
      "metadata": {
        "colab": {
          "base_uri": "https://localhost:8080/"
        },
        "id": "-8lv5hW2NCbz",
        "outputId": "b577f504-0a86-4183-960c-60fc33ee0630"
      },
      "execution_count": null,
      "outputs": [
        {
          "output_type": "stream",
          "name": "stdout",
          "text": [
            " cat-dog-data.zip  'Image Classification using Tensorflow.ipynb'\n"
          ]
        }
      ]
    },
    {
      "cell_type": "code",
      "source": [
        "!unzip cat-dog-data.zip"
      ],
      "metadata": {
        "colab": {
          "base_uri": "https://localhost:8080/"
        },
        "id": "mDQGVZp4NFab",
        "outputId": "6aa5b66b-1365-4007-822a-6ddd1d353448"
      },
      "execution_count": null,
      "outputs": [
        {
          "output_type": "stream",
          "name": "stdout",
          "text": [
            "Archive:  cat-dog-data.zip\n",
            "   creating: train/\n",
            "   creating: train/Cat/\n",
            "  inflating: train/Cat/0.jpg         \n",
            "  inflating: train/Cat/1.jpg         \n",
            "  inflating: train/Cat/2.jpg         \n",
            "  inflating: train/Cat/cat.2405.jpg  \n",
            "  inflating: train/Cat/cat.2406.jpg  \n",
            "  inflating: train/Cat/cat.2436.jpg  \n",
            "  inflating: train/Cat/cat.2437.jpg  \n",
            "  inflating: train/Cat/cat.2438.jpg  \n",
            "  inflating: train/Cat/cat.2439.jpg  \n",
            "  inflating: train/Cat/cat.2440.jpg  \n",
            "  inflating: train/Cat/cat.2441.jpg  \n",
            "  inflating: train/Cat/cat.2442.jpg  \n",
            "  inflating: train/Cat/cat.2443.jpg  \n",
            "  inflating: train/Cat/cat.2444.jpg  \n",
            "  inflating: train/Cat/cat.2445.jpg  \n",
            "  inflating: train/Cat/cat.2446.jpg  \n",
            "  inflating: train/Cat/cat.2447.jpg  \n",
            "  inflating: train/Cat/cat.2448.jpg  \n",
            "  inflating: train/Cat/cat.2449.jpg  \n",
            "  inflating: train/Cat/cat.2450.jpg  \n",
            "  inflating: train/Cat/cat.2451.jpg  \n",
            "  inflating: train/Cat/cat.2452.jpg  \n",
            "  inflating: train/Cat/cat.2453.jpg  \n",
            "  inflating: train/Cat/cat.2454.jpg  \n",
            "  inflating: train/Cat/cat.2455.jpg  \n",
            "  inflating: train/Cat/cat.2456.jpg  \n",
            "  inflating: train/Cat/cat.2457.jpg  \n",
            "  inflating: train/Cat/cat.2458.jpg  \n",
            "  inflating: train/Cat/cat.2459.jpg  \n",
            "  inflating: train/Cat/cat.2460.jpg  \n",
            "  inflating: train/Cat/cat.2461.jpg  \n",
            "  inflating: train/Cat/cat.2462.jpg  \n",
            "  inflating: train/Cat/cat.2463.jpg  \n",
            "  inflating: train/Cat/cat.2464.jpg  \n",
            "  inflating: train/Cat/cat.855.jpg   \n",
            "  inflating: train/Cat/cat.856.jpg   \n",
            "  inflating: train/Cat/cat.857.jpg   \n",
            "  inflating: train/Cat/cat.858.jpg   \n",
            "  inflating: train/Cat/cat.859.jpg   \n",
            "  inflating: train/Cat/cat.86.jpg    \n",
            "  inflating: train/Cat/cat.860.jpg   \n",
            "  inflating: train/Cat/cat.861.jpg   \n",
            "  inflating: train/Cat/cat.862.jpg   \n",
            "  inflating: train/Cat/cat.863.jpg   \n",
            "  inflating: train/Cat/cat.864.jpg   \n",
            "  inflating: train/Cat/cat.865.jpg   \n",
            "  inflating: train/Cat/cat.866.jpg   \n",
            "  inflating: train/Cat/cat.867.jpg   \n",
            "  inflating: train/Cat/cat.868.jpg   \n",
            "  inflating: train/Cat/cat.869.jpg   \n",
            "  inflating: train/Cat/cat.87.jpg    \n",
            "  inflating: train/Cat/cat.870.jpg   \n",
            "  inflating: train/Cat/cat.871.jpg   \n",
            "  inflating: train/Cat/cat.872.jpg   \n",
            "  inflating: train/Cat/cat.873.jpg   \n",
            "  inflating: train/Cat/cat.874.jpg   \n",
            "  inflating: train/Cat/cat.875.jpg   \n",
            "  inflating: train/Cat/cat.876.jpg   \n",
            "  inflating: train/Cat/cat.877.jpg   \n",
            "  inflating: train/Cat/cat.878.jpg   \n",
            "  inflating: train/Cat/cat.879.jpg   \n",
            "  inflating: train/Cat/cat.88.jpg    \n",
            "  inflating: train/Cat/cat.880.jpg   \n",
            "  inflating: train/Cat/cat.881.jpg   \n",
            "  inflating: train/Cat/cat.882.jpg   \n",
            "  inflating: train/Cat/cat.883.jpg   \n",
            "  inflating: train/Cat/cat.884.jpg   \n",
            "  inflating: train/Cat/cat.885.jpg   \n",
            "  inflating: train/Cat/cat.886.jpg   \n",
            "  inflating: train/Cat/cat.887.jpg   \n",
            "  inflating: train/Cat/cat.888.jpg   \n",
            "  inflating: train/Cat/cat.889.jpg   \n",
            "  inflating: train/Cat/cat.89.jpg    \n",
            "  inflating: train/Cat/cat.890.jpg   \n",
            "  inflating: train/Cat/cat.891.jpg   \n",
            "  inflating: train/Cat/cat.892.jpg   \n",
            "  inflating: train/Cat/cat.893.jpg   \n",
            "  inflating: train/Cat/cat.894.jpg   \n",
            "  inflating: train/Cat/cat.895.jpg   \n",
            "  inflating: train/Cat/cat.896.jpg   \n",
            "  inflating: train/Cat/cat.897.jpg   \n",
            "  inflating: train/Cat/cat.898.jpg   \n",
            "  inflating: train/Cat/cat.899.jpg   \n",
            "  inflating: train/Cat/cat.9.jpg     \n",
            "  inflating: train/Cat/cat.90.jpg    \n",
            "  inflating: train/Cat/cat.900.jpg   \n",
            "  inflating: train/Cat/cat.901.jpg   \n",
            "  inflating: train/Cat/cat.902.jpg   \n",
            "  inflating: train/Cat/cat.903.jpg   \n",
            "  inflating: train/Cat/cat.904.jpg   \n",
            "  inflating: train/Cat/cat.905.jpg   \n",
            "  inflating: train/Cat/cat.906.jpg   \n",
            "  inflating: train/Cat/cat.907.jpg   \n",
            "  inflating: train/Cat/cat.908.jpg   \n",
            "  inflating: train/Cat/cat.909.jpg   \n",
            "  inflating: train/Cat/cat.91.jpg    \n",
            "  inflating: train/Cat/cat.910.jpg   \n",
            "  inflating: train/Cat/cat.911.jpg   \n",
            "  inflating: train/Cat/cat.912.jpg   \n",
            "  inflating: train/Cat/cat.913.jpg   \n",
            "  inflating: train/Cat/cat.914.jpg   \n",
            "  inflating: train/Cat/cat.915.jpg   \n",
            "  inflating: train/Cat/cat.916.jpg   \n",
            "  inflating: train/Cat/cat.917.jpg   \n",
            "  inflating: train/Cat/cat.918.jpg   \n",
            "  inflating: train/Cat/cat.919.jpg   \n",
            "  inflating: train/Cat/cat.92.jpg    \n",
            "  inflating: train/Cat/cat.920.jpg   \n",
            "  inflating: train/Cat/cat.93.jpg    \n",
            "  inflating: train/Cat/cat.94.jpg    \n",
            "  inflating: train/Cat/cat.946.jpg   \n",
            "  inflating: train/Cat/cat.947.jpg   \n",
            "  inflating: train/Cat/cat.948.jpg   \n",
            "  inflating: train/Cat/cat.949.jpg   \n",
            "  inflating: train/Cat/cat.95.jpg    \n",
            "  inflating: train/Cat/cat.950.jpg   \n",
            "  inflating: train/Cat/cat.951.jpg   \n",
            "  inflating: train/Cat/cat.952.jpg   \n",
            "  inflating: train/Cat/cat.953.jpg   \n",
            "  inflating: train/Cat/cat.954.jpg   \n",
            "  inflating: train/Cat/cat.955.jpg   \n",
            "  inflating: train/Cat/cat.956.jpg   \n",
            "  inflating: train/Cat/cat.957.jpg   \n",
            "  inflating: train/Cat/cat.958.jpg   \n",
            "  inflating: train/Cat/cat.959.jpg   \n",
            "  inflating: train/Cat/cat.96.jpg    \n",
            "  inflating: train/Cat/cat.960.jpg   \n",
            "  inflating: train/Cat/cat.961.jpg   \n",
            "  inflating: train/Cat/cat.962.jpg   \n",
            "  inflating: train/Cat/cat.963.jpg   \n",
            "  inflating: train/Cat/cat.964.jpg   \n",
            "  inflating: train/Cat/cat.965.jpg   \n",
            "  inflating: train/Cat/cat.966.jpg   \n",
            "  inflating: train/Cat/cat.967.jpg   \n",
            "  inflating: train/Cat/cat.968.jpg   \n",
            "  inflating: train/Cat/cat.969.jpg   \n",
            "  inflating: train/Cat/cat.97.jpg    \n",
            "  inflating: train/Cat/cat.970.jpg   \n",
            "  inflating: train/Cat/cat.971.jpg   \n",
            "  inflating: train/Cat/cat.972.jpg   \n",
            "  inflating: train/Cat/cat.973.jpg   \n",
            "  inflating: train/Cat/cat.974.jpg   \n",
            "  inflating: train/Cat/cat.975.jpg   \n",
            "  inflating: train/Cat/cat.976.jpg   \n",
            "  inflating: train/Cat/cat.977.jpg   \n",
            "  inflating: train/Cat/cat.978.jpg   \n",
            "  inflating: train/Cat/cat.979.jpg   \n",
            "  inflating: train/Cat/cat.98.jpg    \n",
            "  inflating: train/Cat/cat.980.jpg   \n",
            "  inflating: train/Cat/cat.981.jpg   \n",
            "  inflating: train/Cat/cat.982.jpg   \n",
            "  inflating: train/Cat/cat.983.jpg   \n",
            "  inflating: train/Cat/cat.984.jpg   \n",
            "  inflating: train/Cat/cat.985.jpg   \n",
            "  inflating: train/Cat/cat.986.jpg   \n",
            "  inflating: train/Cat/cat.987.jpg   \n",
            "  inflating: train/Cat/cat.988.jpg   \n",
            "  inflating: train/Cat/cat.989.jpg   \n",
            "  inflating: train/Cat/cat.99.jpg    \n",
            "  inflating: train/Cat/cat.990.jpg   \n",
            "  inflating: train/Cat/cat.991.jpg   \n",
            "  inflating: train/Cat/cat.992.jpg   \n",
            "  inflating: train/Cat/cat.993.jpg   \n",
            "  inflating: train/Cat/cat.994.jpg   \n",
            "  inflating: train/Cat/cat.995.jpg   \n",
            "  inflating: train/Cat/cat.996.jpg   \n",
            "  inflating: train/Cat/cat.997.jpg   \n",
            "  inflating: train/Cat/cat.998.jpg   \n",
            "  inflating: train/Cat/cat.999.jpg   \n",
            "   creating: train/Dog/\n",
            "  inflating: train/Dog/10493.jpg     \n",
            "  inflating: train/Dog/11785.jpg     \n",
            "  inflating: train/Dog/9839.jpg      \n",
            "  inflating: train/Dog/dog.2432.jpg  \n",
            "  inflating: train/Dog/dog.2433.jpg  \n",
            "  inflating: train/Dog/dog.2434.jpg  \n",
            "  inflating: train/Dog/dog.2435.jpg  \n",
            "  inflating: train/Dog/dog.2436.jpg  \n",
            "  inflating: train/Dog/dog.2437.jpg  \n",
            "  inflating: train/Dog/dog.2438.jpg  \n",
            "  inflating: train/Dog/dog.2439.jpg  \n",
            "  inflating: train/Dog/dog.2440.jpg  \n",
            "  inflating: train/Dog/dog.2441.jpg  \n",
            "  inflating: train/Dog/dog.2442.jpg  \n",
            "  inflating: train/Dog/dog.2443.jpg  \n",
            "  inflating: train/Dog/dog.2444.jpg  \n",
            "  inflating: train/Dog/dog.2445.jpg  \n",
            "  inflating: train/Dog/dog.2446.jpg  \n",
            "  inflating: train/Dog/dog.2447.jpg  \n",
            "  inflating: train/Dog/dog.2448.jpg  \n",
            "  inflating: train/Dog/dog.2449.jpg  \n",
            "  inflating: train/Dog/dog.2450.jpg  \n",
            "  inflating: train/Dog/dog.2451.jpg  \n",
            "  inflating: train/Dog/dog.2452.jpg  \n",
            "  inflating: train/Dog/dog.2453.jpg  \n",
            "  inflating: train/Dog/dog.2454.jpg  \n",
            "  inflating: train/Dog/dog.2455.jpg  \n",
            "  inflating: train/Dog/dog.2456.jpg  \n",
            "  inflating: train/Dog/dog.2457.jpg  \n",
            "  inflating: train/Dog/dog.2458.jpg  \n",
            "  inflating: train/Dog/dog.2459.jpg  \n",
            "  inflating: train/Dog/dog.2460.jpg  \n",
            "  inflating: train/Dog/dog.2461.jpg  \n",
            "  inflating: train/Dog/dog.844.jpg   \n",
            "  inflating: train/Dog/dog.845.jpg   \n",
            "  inflating: train/Dog/dog.846.jpg   \n",
            "  inflating: train/Dog/dog.847.jpg   \n",
            "  inflating: train/Dog/dog.848.jpg   \n",
            "  inflating: train/Dog/dog.849.jpg   \n",
            "  inflating: train/Dog/dog.85.jpg    \n",
            "  inflating: train/Dog/dog.850.jpg   \n",
            "  inflating: train/Dog/dog.851.jpg   \n",
            "  inflating: train/Dog/dog.852.jpg   \n",
            "  inflating: train/Dog/dog.853.jpg   \n",
            "  inflating: train/Dog/dog.854.jpg   \n",
            "  inflating: train/Dog/dog.855.jpg   \n",
            "  inflating: train/Dog/dog.856.jpg   \n",
            "  inflating: train/Dog/dog.857.jpg   \n",
            "  inflating: train/Dog/dog.858.jpg   \n",
            "  inflating: train/Dog/dog.859.jpg   \n",
            "  inflating: train/Dog/dog.86.jpg    \n",
            "  inflating: train/Dog/dog.860.jpg   \n",
            "  inflating: train/Dog/dog.861.jpg   \n",
            "  inflating: train/Dog/dog.862.jpg   \n",
            "  inflating: train/Dog/dog.863.jpg   \n",
            "  inflating: train/Dog/dog.864.jpg   \n",
            "  inflating: train/Dog/dog.865.jpg   \n",
            "  inflating: train/Dog/dog.866.jpg   \n",
            "  inflating: train/Dog/dog.867.jpg   \n",
            "  inflating: train/Dog/dog.868.jpg   \n",
            "  inflating: train/Dog/dog.869.jpg   \n",
            "  inflating: train/Dog/dog.87.jpg    \n",
            "  inflating: train/Dog/dog.870.jpg   \n",
            "  inflating: train/Dog/dog.871.jpg   \n",
            "  inflating: train/Dog/dog.872.jpg   \n",
            "  inflating: train/Dog/dog.873.jpg   \n",
            "  inflating: train/Dog/dog.874.jpg   \n",
            "  inflating: train/Dog/dog.875.jpg   \n",
            "  inflating: train/Dog/dog.876.jpg   \n",
            "  inflating: train/Dog/dog.877.jpg   \n",
            "  inflating: train/Dog/dog.878.jpg   \n",
            "  inflating: train/Dog/dog.879.jpg   \n",
            "  inflating: train/Dog/dog.88.jpg    \n",
            "  inflating: train/Dog/dog.880.jpg   \n",
            "  inflating: train/Dog/dog.881.jpg   \n",
            "  inflating: train/Dog/dog.882.jpg   \n",
            "  inflating: train/Dog/dog.883.jpg   \n",
            "  inflating: train/Dog/dog.884.jpg   \n",
            "  inflating: train/Dog/dog.885.jpg   \n",
            "  inflating: train/Dog/dog.886.jpg   \n",
            "  inflating: train/Dog/dog.887.jpg   \n",
            "  inflating: train/Dog/dog.888.jpg   \n",
            "  inflating: train/Dog/dog.889.jpg   \n",
            "  inflating: train/Dog/dog.89.jpg    \n",
            "  inflating: train/Dog/dog.890.jpg   \n",
            "  inflating: train/Dog/dog.891.jpg   \n",
            "  inflating: train/Dog/dog.892.jpg   \n",
            "  inflating: train/Dog/dog.893.jpg   \n",
            "  inflating: train/Dog/dog.894.jpg   \n",
            "  inflating: train/Dog/dog.895.jpg   \n",
            "  inflating: train/Dog/dog.896.jpg   \n",
            "  inflating: train/Dog/dog.897.jpg   \n",
            "  inflating: train/Dog/dog.898.jpg   \n",
            "  inflating: train/Dog/dog.9.jpg     \n",
            "  inflating: train/Dog/dog.90.jpg    \n",
            "  inflating: train/Dog/dog.91.jpg    \n",
            "  inflating: train/Dog/dog.92.jpg    \n",
            "  inflating: train/Dog/dog.93.jpg    \n",
            "  inflating: train/Dog/dog.936.jpg   \n",
            "  inflating: train/Dog/dog.937.jpg   \n",
            "  inflating: train/Dog/dog.938.jpg   \n",
            "  inflating: train/Dog/dog.939.jpg   \n",
            "  inflating: train/Dog/dog.94.jpg    \n",
            "  inflating: train/Dog/dog.940.jpg   \n",
            "  inflating: train/Dog/dog.941.jpg   \n",
            "  inflating: train/Dog/dog.942.jpg   \n",
            "  inflating: train/Dog/dog.943.jpg   \n",
            "  inflating: train/Dog/dog.944.jpg   \n",
            "  inflating: train/Dog/dog.945.jpg   \n",
            "  inflating: train/Dog/dog.946.jpg   \n",
            "  inflating: train/Dog/dog.947.jpg   \n",
            "  inflating: train/Dog/dog.948.jpg   \n",
            "  inflating: train/Dog/dog.949.jpg   \n",
            "  inflating: train/Dog/dog.95.jpg    \n",
            "  inflating: train/Dog/dog.950.jpg   \n",
            "  inflating: train/Dog/dog.951.jpg   \n",
            "  inflating: train/Dog/dog.952.jpg   \n",
            "  inflating: train/Dog/dog.953.jpg   \n",
            "  inflating: train/Dog/dog.954.jpg   \n",
            "  inflating: train/Dog/dog.955.jpg   \n",
            "  inflating: train/Dog/dog.956.jpg   \n",
            "  inflating: train/Dog/dog.957.jpg   \n",
            "  inflating: train/Dog/dog.958.jpg   \n",
            "  inflating: train/Dog/dog.959.jpg   \n",
            "  inflating: train/Dog/dog.96.jpg    \n",
            "  inflating: train/Dog/dog.960.jpg   \n",
            "  inflating: train/Dog/dog.961.jpg   \n",
            "  inflating: train/Dog/dog.962.jpg   \n",
            "  inflating: train/Dog/dog.963.jpg   \n",
            "  inflating: train/Dog/dog.964.jpg   \n",
            "  inflating: train/Dog/dog.965.jpg   \n",
            "  inflating: train/Dog/dog.966.jpg   \n",
            "  inflating: train/Dog/dog.967.jpg   \n",
            "  inflating: train/Dog/dog.968.jpg   \n",
            "  inflating: train/Dog/dog.969.jpg   \n",
            "  inflating: train/Dog/dog.97.jpg    \n",
            "  inflating: train/Dog/dog.970.jpg   \n",
            "  inflating: train/Dog/dog.971.jpg   \n",
            "  inflating: train/Dog/dog.972.jpg   \n",
            "  inflating: train/Dog/dog.973.jpg   \n",
            "  inflating: train/Dog/dog.974.jpg   \n",
            "  inflating: train/Dog/dog.975.jpg   \n",
            "  inflating: train/Dog/dog.976.jpg   \n",
            "  inflating: train/Dog/dog.977.jpg   \n",
            "  inflating: train/Dog/dog.978.jpg   \n",
            "  inflating: train/Dog/dog.979.jpg   \n",
            "  inflating: train/Dog/dog.98.jpg    \n",
            "  inflating: train/Dog/dog.980.jpg   \n",
            "  inflating: train/Dog/dog.981.jpg   \n",
            "  inflating: train/Dog/dog.982.jpg   \n",
            "  inflating: train/Dog/dog.983.jpg   \n",
            "  inflating: train/Dog/dog.984.jpg   \n",
            "  inflating: train/Dog/dog.985.jpg   \n",
            "  inflating: train/Dog/dog.986.jpg   \n",
            "  inflating: train/Dog/dog.987.jpg   \n",
            "  inflating: train/Dog/dog.988.jpg   \n",
            "  inflating: train/Dog/dog.989.jpg   \n",
            "  inflating: train/Dog/dog.99.jpg    \n",
            "  inflating: train/Dog/dog.990.jpg   \n",
            "  inflating: train/Dog/dog.991.jpg   \n",
            "  inflating: train/Dog/dog.992.jpg   \n",
            "  inflating: train/Dog/dog.993.jpg   \n",
            "  inflating: train/Dog/dog.994.jpg   \n",
            "  inflating: train/Dog/dog.995.jpg   \n",
            "  inflating: train/Dog/dog.996.jpg   \n",
            "  inflating: train/Dog/dog.997.jpg   \n",
            "  inflating: train/Dog/dog.998.jpg   \n",
            "  inflating: train/Dog/dog.999.jpg   \n",
            "   creating: validation/\n",
            "   creating: validation/Cat/\n",
            "  inflating: validation/Cat/cat.2407.jpg  \n",
            "  inflating: validation/Cat/cat.2408.jpg  \n",
            "  inflating: validation/Cat/cat.2409.jpg  \n",
            "  inflating: validation/Cat/cat.2410.jpg  \n",
            "  inflating: validation/Cat/cat.2411.jpg  \n",
            "  inflating: validation/Cat/cat.2412.jpg  \n",
            "  inflating: validation/Cat/cat.2413.jpg  \n",
            "  inflating: validation/Cat/cat.2414.jpg  \n",
            "  inflating: validation/Cat/cat.2415.jpg  \n",
            "  inflating: validation/Cat/cat.2416.jpg  \n",
            "  inflating: validation/Cat/cat.2417.jpg  \n",
            "  inflating: validation/Cat/cat.2418.jpg  \n",
            "  inflating: validation/Cat/cat.2419.jpg  \n",
            "  inflating: validation/Cat/cat.2420.jpg  \n",
            "  inflating: validation/Cat/cat.2421.jpg  \n",
            "  inflating: validation/Cat/cat.2422.jpg  \n",
            "  inflating: validation/Cat/cat.2423.jpg  \n",
            "  inflating: validation/Cat/cat.2424.jpg  \n",
            "  inflating: validation/Cat/cat.2425.jpg  \n",
            "  inflating: validation/Cat/cat.2426.jpg  \n",
            "  inflating: validation/Cat/cat.2427.jpg  \n",
            "  inflating: validation/Cat/cat.2428.jpg  \n",
            "  inflating: validation/Cat/cat.2429.jpg  \n",
            "  inflating: validation/Cat/cat.2430.jpg  \n",
            "  inflating: validation/Cat/cat.2431.jpg  \n",
            "  inflating: validation/Cat/cat.2432.jpg  \n",
            "  inflating: validation/Cat/cat.2433.jpg  \n",
            "  inflating: validation/Cat/cat.2434.jpg  \n",
            "  inflating: validation/Cat/cat.2435.jpg  \n",
            "   creating: validation/Dog/\n",
            "  inflating: validation/Dog/dog.2402.jpg  \n",
            "  inflating: validation/Dog/dog.2403.jpg  \n",
            "  inflating: validation/Dog/dog.2404.jpg  \n",
            "  inflating: validation/Dog/dog.2405.jpg  \n",
            "  inflating: validation/Dog/dog.2406.jpg  \n",
            "  inflating: validation/Dog/dog.2407.jpg  \n",
            "  inflating: validation/Dog/dog.2408.jpg  \n",
            "  inflating: validation/Dog/dog.2409.jpg  \n",
            "  inflating: validation/Dog/dog.2410.jpg  \n",
            "  inflating: validation/Dog/dog.2411.jpg  \n",
            "  inflating: validation/Dog/dog.2412.jpg  \n",
            "  inflating: validation/Dog/dog.2413.jpg  \n",
            "  inflating: validation/Dog/dog.2414.jpg  \n",
            "  inflating: validation/Dog/dog.2415.jpg  \n",
            "  inflating: validation/Dog/dog.2416.jpg  \n",
            "  inflating: validation/Dog/dog.2417.jpg  \n",
            "  inflating: validation/Dog/dog.2418.jpg  \n",
            "  inflating: validation/Dog/dog.2419.jpg  \n",
            "  inflating: validation/Dog/dog.2420.jpg  \n",
            "  inflating: validation/Dog/dog.2421.jpg  \n",
            "  inflating: validation/Dog/dog.2422.jpg  \n",
            "  inflating: validation/Dog/dog.2423.jpg  \n",
            "  inflating: validation/Dog/dog.2424.jpg  \n",
            "  inflating: validation/Dog/dog.2425.jpg  \n",
            "  inflating: validation/Dog/dog.2426.jpg  \n",
            "  inflating: validation/Dog/dog.2427.jpg  \n",
            "  inflating: validation/Dog/dog.2428.jpg  \n",
            "  inflating: validation/Dog/dog.2429.jpg  \n",
            "  inflating: validation/Dog/dog.2430.jpg  \n",
            "  inflating: validation/Dog/dog.2431.jpg  \n"
          ]
        }
      ]
    },
    {
      "cell_type": "code",
      "source": [
        "%ls"
      ],
      "metadata": {
        "colab": {
          "base_uri": "https://localhost:8080/"
        },
        "id": "o6EZAyQzNM9L",
        "outputId": "78ec0e09-e5a0-458d-9e7c-7b84a69e9403"
      },
      "execution_count": null,
      "outputs": [
        {
          "output_type": "stream",
          "name": "stdout",
          "text": [
            " cat-dog-data.zip  'Image Classification using Tensorflow.ipynb'   \u001b[0m\u001b[01;34mtrain\u001b[0m/   \u001b[01;34mvalidation\u001b[0m/\n"
          ]
        }
      ]
    },
    {
      "cell_type": "code",
      "source": [
        "# Import packages\n",
        "\n",
        "from tensorflow.keras.layers import Input, Lambda, Dense, Flatten\n",
        "from tensorflow.keras.models import Model\n",
        "from tensorflow.keras.applications.vgg16 import VGG16\n",
        "from tensorflow.keras.preprocessing import image\n",
        "from tensorflow.keras.preprocessing.image import ImageDataGenerator, load_img\n",
        "from tensorflow.keras.models import Sequential\n",
        "import numpy as np\n",
        "from glob import glob"
      ],
      "metadata": {
        "id": "9jNfNlqoNXZy"
      },
      "execution_count": null,
      "outputs": []
    },
    {
      "cell_type": "code",
      "source": [
        "%ls"
      ],
      "metadata": {
        "colab": {
          "base_uri": "https://localhost:8080/"
        },
        "id": "Je__W83aPu1F",
        "outputId": "0a651991-05d4-4d4c-cc7e-ae7e0efe4610"
      },
      "execution_count": null,
      "outputs": [
        {
          "output_type": "stream",
          "name": "stdout",
          "text": [
            " cat-dog-data.zip  'Image Classification using Tensorflow.ipynb'   \u001b[0m\u001b[01;34mtrain\u001b[0m/   \u001b[01;34mvalidation\u001b[0m/\n"
          ]
        }
      ]
    },
    {
      "cell_type": "code",
      "source": [
        "#set constant\n",
        "\n",
        "IMAGE_SIZE = [224,224]\n",
        "\n",
        "train_path = \"train\"\n",
        "valid_path = \"validation\""
      ],
      "metadata": {
        "id": "sNv8DTY8PGTc"
      },
      "execution_count": null,
      "outputs": []
    },
    {
      "cell_type": "code",
      "source": [
        "IMAGE_SIZE + [3]"
      ],
      "metadata": {
        "colab": {
          "base_uri": "https://localhost:8080/"
        },
        "id": "O89Wp0DVQFrE",
        "outputId": "d5fe0f68-8d21-42fe-b186-5a0f9ce2cca6"
      },
      "execution_count": null,
      "outputs": [
        {
          "output_type": "execute_result",
          "data": {
            "text/plain": [
              "[224, 224, 3]"
            ]
          },
          "metadata": {},
          "execution_count": 18
        }
      ]
    },
    {
      "cell_type": "code",
      "source": [
        "# Donwload vgg16 pretrained model\n",
        "\n",
        "vgg16 = VGG16(input_shape = IMAGE_SIZE + [3], weights = \"imagenet\", include_top = False)"
      ],
      "metadata": {
        "colab": {
          "base_uri": "https://localhost:8080/"
        },
        "id": "fWFfzeWxP2e6",
        "outputId": "19fbed8d-5cd3-4ee7-8780-84275fe204aa"
      },
      "execution_count": null,
      "outputs": [
        {
          "output_type": "stream",
          "name": "stdout",
          "text": [
            "Downloading data from https://storage.googleapis.com/tensorflow/keras-applications/vgg16/vgg16_weights_tf_dim_ordering_tf_kernels_notop.h5\n",
            "58889256/58889256 [==============================] - 2s 0us/step\n"
          ]
        }
      ]
    },
    {
      "cell_type": "code",
      "source": [
        "for layer in vgg16.layers:\n",
        "  print(layer)"
      ],
      "metadata": {
        "colab": {
          "base_uri": "https://localhost:8080/"
        },
        "id": "tQ35oDqsQVCC",
        "outputId": "75663bf5-d06f-4d31-c2a4-83b997377955"
      },
      "execution_count": null,
      "outputs": [
        {
          "output_type": "stream",
          "name": "stdout",
          "text": [
            "<keras.src.engine.input_layer.InputLayer object at 0x798787d62050>\n",
            "<keras.src.layers.convolutional.conv2d.Conv2D object at 0x798787d60d30>\n",
            "<keras.src.layers.convolutional.conv2d.Conv2D object at 0x798787d626e0>\n",
            "<keras.src.layers.pooling.max_pooling2d.MaxPooling2D object at 0x798787d62ce0>\n",
            "<keras.src.layers.convolutional.conv2d.Conv2D object at 0x798787d63550>\n",
            "<keras.src.layers.convolutional.conv2d.Conv2D object at 0x798787d63fa0>\n",
            "<keras.src.layers.pooling.max_pooling2d.MaxPooling2D object at 0x798787d58790>\n",
            "<keras.src.layers.convolutional.conv2d.Conv2D object at 0x798787d5bd00>\n",
            "<keras.src.layers.convolutional.conv2d.Conv2D object at 0x798787d59ae0>\n",
            "<keras.src.layers.convolutional.conv2d.Conv2D object at 0x798787d599f0>\n",
            "<keras.src.layers.pooling.max_pooling2d.MaxPooling2D object at 0x798787d922c0>\n",
            "<keras.src.layers.convolutional.conv2d.Conv2D object at 0x798787d5bbb0>\n",
            "<keras.src.layers.convolutional.conv2d.Conv2D object at 0x798787d5b670>\n",
            "<keras.src.layers.convolutional.conv2d.Conv2D object at 0x798787d90190>\n",
            "<keras.src.layers.pooling.max_pooling2d.MaxPooling2D object at 0x798787d90250>\n",
            "<keras.src.layers.convolutional.conv2d.Conv2D object at 0x798787d93e80>\n",
            "<keras.src.layers.convolutional.conv2d.Conv2D object at 0x79878a8b6f50>\n",
            "<keras.src.layers.convolutional.conv2d.Conv2D object at 0x798787eafc10>\n",
            "<keras.src.layers.pooling.max_pooling2d.MaxPooling2D object at 0x798787d93910>\n"
          ]
        }
      ]
    },
    {
      "cell_type": "code",
      "source": [
        "for layer in vgg16.layers:\n",
        "  layer.trainable = False"
      ],
      "metadata": {
        "id": "199NipdHRaP5"
      },
      "execution_count": null,
      "outputs": []
    },
    {
      "cell_type": "code",
      "source": [
        "for layer in vgg16.layers:\n",
        "  print(layer.name, layer.trainable)"
      ],
      "metadata": {
        "colab": {
          "base_uri": "https://localhost:8080/"
        },
        "id": "61Gc8CqRRi5i",
        "outputId": "067fb03b-df73-459e-caa5-2603b67a4419"
      },
      "execution_count": null,
      "outputs": [
        {
          "output_type": "stream",
          "name": "stdout",
          "text": [
            "input_1 False\n",
            "block1_conv1 False\n",
            "block1_conv2 False\n",
            "block1_pool False\n",
            "block2_conv1 False\n",
            "block2_conv2 False\n",
            "block2_pool False\n",
            "block3_conv1 False\n",
            "block3_conv2 False\n",
            "block3_conv3 False\n",
            "block3_pool False\n",
            "block4_conv1 False\n",
            "block4_conv2 False\n",
            "block4_conv3 False\n",
            "block4_pool False\n",
            "block5_conv1 False\n",
            "block5_conv2 False\n",
            "block5_conv3 False\n",
            "block5_pool False\n"
          ]
        }
      ]
    },
    {
      "cell_type": "code",
      "source": [
        "vgg16.summary()"
      ],
      "metadata": {
        "colab": {
          "base_uri": "https://localhost:8080/"
        },
        "id": "zB0bLh-LRowq",
        "outputId": "950e559f-0add-4bcf-e741-b71c5e1680e0"
      },
      "execution_count": null,
      "outputs": [
        {
          "output_type": "stream",
          "name": "stdout",
          "text": [
            "Model: \"vgg16\"\n",
            "_________________________________________________________________\n",
            " Layer (type)                Output Shape              Param #   \n",
            "=================================================================\n",
            " input_1 (InputLayer)        [(None, 224, 224, 3)]     0         \n",
            "                                                                 \n",
            " block1_conv1 (Conv2D)       (None, 224, 224, 64)      1792      \n",
            "                                                                 \n",
            " block1_conv2 (Conv2D)       (None, 224, 224, 64)      36928     \n",
            "                                                                 \n",
            " block1_pool (MaxPooling2D)  (None, 112, 112, 64)      0         \n",
            "                                                                 \n",
            " block2_conv1 (Conv2D)       (None, 112, 112, 128)     73856     \n",
            "                                                                 \n",
            " block2_conv2 (Conv2D)       (None, 112, 112, 128)     147584    \n",
            "                                                                 \n",
            " block2_pool (MaxPooling2D)  (None, 56, 56, 128)       0         \n",
            "                                                                 \n",
            " block3_conv1 (Conv2D)       (None, 56, 56, 256)       295168    \n",
            "                                                                 \n",
            " block3_conv2 (Conv2D)       (None, 56, 56, 256)       590080    \n",
            "                                                                 \n",
            " block3_conv3 (Conv2D)       (None, 56, 56, 256)       590080    \n",
            "                                                                 \n",
            " block3_pool (MaxPooling2D)  (None, 28, 28, 256)       0         \n",
            "                                                                 \n",
            " block4_conv1 (Conv2D)       (None, 28, 28, 512)       1180160   \n",
            "                                                                 \n",
            " block4_conv2 (Conv2D)       (None, 28, 28, 512)       2359808   \n",
            "                                                                 \n",
            " block4_conv3 (Conv2D)       (None, 28, 28, 512)       2359808   \n",
            "                                                                 \n",
            " block4_pool (MaxPooling2D)  (None, 14, 14, 512)       0         \n",
            "                                                                 \n",
            " block5_conv1 (Conv2D)       (None, 14, 14, 512)       2359808   \n",
            "                                                                 \n",
            " block5_conv2 (Conv2D)       (None, 14, 14, 512)       2359808   \n",
            "                                                                 \n",
            " block5_conv3 (Conv2D)       (None, 14, 14, 512)       2359808   \n",
            "                                                                 \n",
            " block5_pool (MaxPooling2D)  (None, 7, 7, 512)         0         \n",
            "                                                                 \n",
            "=================================================================\n",
            "Total params: 14714688 (56.13 MB)\n",
            "Trainable params: 0 (0.00 Byte)\n",
            "Non-trainable params: 14714688 (56.13 MB)\n",
            "_________________________________________________________________\n"
          ]
        }
      ]
    },
    {
      "cell_type": "code",
      "source": [
        "folder = glob(\"train/*\")"
      ],
      "metadata": {
        "id": "7qpQTJjoRtwD"
      },
      "execution_count": null,
      "outputs": []
    },
    {
      "cell_type": "code",
      "source": [
        "folder"
      ],
      "metadata": {
        "colab": {
          "base_uri": "https://localhost:8080/"
        },
        "id": "Ao3855PVR9vZ",
        "outputId": "dfa2f97d-a761-4bb1-fb93-ff82c506c4c4"
      },
      "execution_count": null,
      "outputs": [
        {
          "output_type": "execute_result",
          "data": {
            "text/plain": [
              "['train/Cat', 'train/Dog']"
            ]
          },
          "metadata": {},
          "execution_count": 25
        }
      ]
    },
    {
      "cell_type": "code",
      "source": [
        "len(folder)"
      ],
      "metadata": {
        "colab": {
          "base_uri": "https://localhost:8080/"
        },
        "id": "SmX42wDoR_F6",
        "outputId": "fb23a14b-5cf0-490d-c6e6-3d3aad581d47"
      },
      "execution_count": null,
      "outputs": [
        {
          "output_type": "execute_result",
          "data": {
            "text/plain": [
              "2"
            ]
          },
          "metadata": {},
          "execution_count": 26
        }
      ]
    },
    {
      "cell_type": "code",
      "source": [
        "# Adding our custom dense layers\n",
        "\n",
        "model = Sequential()\n",
        "model.add(vgg16)\n",
        "model.add(Flatten())\n",
        "model.add(Dense(256, activation = 'relu'))\n",
        "model.add(Dense(2, activation = 'softmax'))"
      ],
      "metadata": {
        "id": "qSMXWoaESCHS"
      },
      "execution_count": null,
      "outputs": []
    },
    {
      "cell_type": "code",
      "source": [
        "model.summary()"
      ],
      "metadata": {
        "colab": {
          "base_uri": "https://localhost:8080/"
        },
        "id": "0t7Qs5sjSmBC",
        "outputId": "4ef8bbc3-8097-49a1-d8c6-e186edf1c4ed"
      },
      "execution_count": null,
      "outputs": [
        {
          "output_type": "stream",
          "name": "stdout",
          "text": [
            "Model: \"sequential\"\n",
            "_________________________________________________________________\n",
            " Layer (type)                Output Shape              Param #   \n",
            "=================================================================\n",
            " vgg16 (Functional)          (None, 7, 7, 512)         14714688  \n",
            "                                                                 \n",
            " flatten (Flatten)           (None, 25088)             0         \n",
            "                                                                 \n",
            " dense (Dense)               (None, 256)               6422784   \n",
            "                                                                 \n",
            " dense_1 (Dense)             (None, 2)                 514       \n",
            "                                                                 \n",
            "=================================================================\n",
            "Total params: 21137986 (80.64 MB)\n",
            "Trainable params: 6423298 (24.50 MB)\n",
            "Non-trainable params: 14714688 (56.13 MB)\n",
            "_________________________________________________________________\n"
          ]
        }
      ]
    },
    {
      "cell_type": "code",
      "source": [
        "model.compile(\n",
        "    loss = \"categorical_crossentropy\",\n",
        "    optimizer = \"adam\",\n",
        "    metrics = ['accuracy']\n",
        ")"
      ],
      "metadata": {
        "id": "4YgZsUsTSpvi"
      },
      "execution_count": null,
      "outputs": []
    },
    {
      "cell_type": "code",
      "source": [
        "## data transformation\n",
        "\n",
        "train_datagen = ImageDataGenerator(\n",
        "    rescale = 1./255,\n",
        "    shear_range = 0.2,\n",
        "    zoom_range = 0.2,\n",
        "    horizontal_flip = True\n",
        "\n",
        ")\n",
        "\n",
        "test_datagen = ImageDataGenerator(rescale = 1./255)"
      ],
      "metadata": {
        "id": "FneaYC_ZTBhR"
      },
      "execution_count": null,
      "outputs": []
    },
    {
      "cell_type": "code",
      "source": [
        "%ls"
      ],
      "metadata": {
        "colab": {
          "base_uri": "https://localhost:8080/"
        },
        "id": "QWS4rAeCUV_z",
        "outputId": "555df5bf-e7f5-45ad-d9c4-ac60cc7d6989"
      },
      "execution_count": null,
      "outputs": [
        {
          "output_type": "stream",
          "name": "stdout",
          "text": [
            " cat-dog-data.zip  'Image Classification using Tensorflow.ipynb'   \u001b[0m\u001b[01;34mtrain\u001b[0m/   \u001b[01;34mvalidation\u001b[0m/\n"
          ]
        }
      ]
    },
    {
      "cell_type": "code",
      "source": [
        "# lodaing train images\n",
        "\n",
        "training_set = train_datagen.flow_from_directory(\n",
        "    \"train\",\n",
        "    target_size = (224, 224),\n",
        "    batch_size = 32,\n",
        "    class_mode = 'categorical'\n",
        ")"
      ],
      "metadata": {
        "colab": {
          "base_uri": "https://localhost:8080/"
        },
        "id": "kit3jRmWULZZ",
        "outputId": "900f0f9a-5c63-4a8a-e094-65d18a586be7"
      },
      "execution_count": null,
      "outputs": [
        {
          "output_type": "stream",
          "name": "stdout",
          "text": [
            "Found 337 images belonging to 2 classes.\n"
          ]
        }
      ]
    },
    {
      "cell_type": "code",
      "source": [
        "# lodaing test images\n",
        "\n",
        "test_set = test_datagen.flow_from_directory(\n",
        "    \"validation\",\n",
        "    target_size = (224, 224),\n",
        "    batch_size = 32,\n",
        "    class_mode = 'categorical'\n",
        ")"
      ],
      "metadata": {
        "colab": {
          "base_uri": "https://localhost:8080/"
        },
        "id": "G6NUQ-C6UsOq",
        "outputId": "5e92346e-69b8-443d-fb7e-35c30cd83ab9"
      },
      "execution_count": null,
      "outputs": [
        {
          "output_type": "stream",
          "name": "stdout",
          "text": [
            "Found 59 images belonging to 2 classes.\n"
          ]
        }
      ]
    },
    {
      "cell_type": "code",
      "source": [
        "history = model.fit(\n",
        "    training_set,\n",
        "    validation_data = test_set,\n",
        "    epochs = 50,\n",
        "    steps_per_epoch=len(training_set),\n",
        "    validation_steps=len(test_set)\n",
        "\n",
        ")"
      ],
      "metadata": {
        "colab": {
          "base_uri": "https://localhost:8080/"
        },
        "id": "Jq1zuoBPU3QJ",
        "outputId": "9afe57bb-ccf5-41a2-cd84-57dffc4f9b45"
      },
      "execution_count": null,
      "outputs": [
        {
          "output_type": "stream",
          "name": "stdout",
          "text": [
            "Epoch 1/50\n",
            "11/11 [==============================] - 13s 686ms/step - loss: 3.9458 - accuracy: 0.5608 - val_loss: 1.2852 - val_accuracy: 0.4915\n",
            "Epoch 2/50\n",
            "11/11 [==============================] - 5s 437ms/step - loss: 0.7604 - accuracy: 0.5668 - val_loss: 0.4748 - val_accuracy: 0.7627\n",
            "Epoch 3/50\n",
            "11/11 [==============================] - 5s 434ms/step - loss: 0.3377 - accuracy: 0.8546 - val_loss: 0.4011 - val_accuracy: 0.7966\n",
            "Epoch 4/50\n",
            "11/11 [==============================] - 5s 428ms/step - loss: 0.2218 - accuracy: 0.9080 - val_loss: 0.3789 - val_accuracy: 0.8136\n",
            "Epoch 5/50\n",
            "11/11 [==============================] - 5s 436ms/step - loss: 0.1682 - accuracy: 0.9525 - val_loss: 0.3864 - val_accuracy: 0.8136\n",
            "Epoch 6/50\n",
            "11/11 [==============================] - 5s 430ms/step - loss: 0.1381 - accuracy: 0.9644 - val_loss: 0.3797 - val_accuracy: 0.8136\n",
            "Epoch 7/50\n",
            "11/11 [==============================] - 5s 449ms/step - loss: 0.1067 - accuracy: 0.9674 - val_loss: 0.4361 - val_accuracy: 0.8644\n",
            "Epoch 8/50\n",
            "11/11 [==============================] - 5s 424ms/step - loss: 0.1090 - accuracy: 0.9703 - val_loss: 0.3920 - val_accuracy: 0.8305\n",
            "Epoch 9/50\n",
            "11/11 [==============================] - 5s 424ms/step - loss: 0.0898 - accuracy: 0.9733 - val_loss: 0.4224 - val_accuracy: 0.8305\n",
            "Epoch 10/50\n",
            "11/11 [==============================] - 5s 429ms/step - loss: 0.0774 - accuracy: 0.9822 - val_loss: 0.4736 - val_accuracy: 0.8644\n",
            "Epoch 11/50\n",
            "11/11 [==============================] - 5s 430ms/step - loss: 0.0801 - accuracy: 0.9763 - val_loss: 0.4926 - val_accuracy: 0.8644\n",
            "Epoch 12/50\n",
            "11/11 [==============================] - 5s 434ms/step - loss: 0.0424 - accuracy: 0.9941 - val_loss: 0.4274 - val_accuracy: 0.8136\n",
            "Epoch 13/50\n",
            "11/11 [==============================] - 5s 431ms/step - loss: 0.0367 - accuracy: 0.9970 - val_loss: 0.4345 - val_accuracy: 0.8136\n",
            "Epoch 14/50\n",
            "11/11 [==============================] - 5s 438ms/step - loss: 0.0409 - accuracy: 0.9911 - val_loss: 0.4416 - val_accuracy: 0.8136\n",
            "Epoch 15/50\n",
            "11/11 [==============================] - 5s 425ms/step - loss: 0.0432 - accuracy: 0.9970 - val_loss: 0.4611 - val_accuracy: 0.7966\n",
            "Epoch 16/50\n",
            "11/11 [==============================] - 5s 429ms/step - loss: 0.0298 - accuracy: 1.0000 - val_loss: 0.5051 - val_accuracy: 0.7797\n",
            "Epoch 17/50\n",
            "11/11 [==============================] - 5s 426ms/step - loss: 0.0257 - accuracy: 1.0000 - val_loss: 0.5400 - val_accuracy: 0.8475\n",
            "Epoch 18/50\n",
            "11/11 [==============================] - 5s 426ms/step - loss: 0.0291 - accuracy: 0.9970 - val_loss: 0.5369 - val_accuracy: 0.8644\n",
            "Epoch 19/50\n",
            "11/11 [==============================] - 5s 441ms/step - loss: 0.0266 - accuracy: 0.9970 - val_loss: 0.4858 - val_accuracy: 0.7966\n",
            "Epoch 20/50\n",
            "11/11 [==============================] - 5s 438ms/step - loss: 0.0146 - accuracy: 1.0000 - val_loss: 0.4833 - val_accuracy: 0.8136\n",
            "Epoch 21/50\n",
            "11/11 [==============================] - 5s 432ms/step - loss: 0.0153 - accuracy: 1.0000 - val_loss: 0.5000 - val_accuracy: 0.8305\n",
            "Epoch 22/50\n",
            "11/11 [==============================] - 5s 449ms/step - loss: 0.0129 - accuracy: 1.0000 - val_loss: 0.5092 - val_accuracy: 0.8305\n",
            "Epoch 23/50\n",
            "11/11 [==============================] - 5s 431ms/step - loss: 0.0108 - accuracy: 1.0000 - val_loss: 0.5132 - val_accuracy: 0.8305\n",
            "Epoch 24/50\n",
            "11/11 [==============================] - 5s 450ms/step - loss: 0.0115 - accuracy: 1.0000 - val_loss: 0.5177 - val_accuracy: 0.7797\n",
            "Epoch 25/50\n",
            "11/11 [==============================] - 5s 435ms/step - loss: 0.0103 - accuracy: 1.0000 - val_loss: 0.5369 - val_accuracy: 0.8305\n",
            "Epoch 26/50\n",
            "11/11 [==============================] - 5s 422ms/step - loss: 0.0077 - accuracy: 1.0000 - val_loss: 0.5220 - val_accuracy: 0.7797\n",
            "Epoch 27/50\n",
            "11/11 [==============================] - 5s 437ms/step - loss: 0.0095 - accuracy: 1.0000 - val_loss: 0.5244 - val_accuracy: 0.7966\n",
            "Epoch 28/50\n",
            "11/11 [==============================] - 5s 427ms/step - loss: 0.0113 - accuracy: 0.9970 - val_loss: 0.5616 - val_accuracy: 0.8475\n",
            "Epoch 29/50\n",
            "11/11 [==============================] - 5s 436ms/step - loss: 0.0069 - accuracy: 1.0000 - val_loss: 0.5562 - val_accuracy: 0.7797\n",
            "Epoch 30/50\n",
            "11/11 [==============================] - 5s 436ms/step - loss: 0.0088 - accuracy: 0.9970 - val_loss: 0.5565 - val_accuracy: 0.7966\n",
            "Epoch 31/50\n",
            "11/11 [==============================] - 5s 425ms/step - loss: 0.0069 - accuracy: 1.0000 - val_loss: 0.5619 - val_accuracy: 0.8136\n",
            "Epoch 32/50\n",
            "11/11 [==============================] - 5s 436ms/step - loss: 0.0056 - accuracy: 1.0000 - val_loss: 0.5675 - val_accuracy: 0.7797\n",
            "Epoch 33/50\n",
            "11/11 [==============================] - 5s 422ms/step - loss: 0.0073 - accuracy: 1.0000 - val_loss: 0.5755 - val_accuracy: 0.8305\n",
            "Epoch 34/50\n",
            "11/11 [==============================] - 5s 424ms/step - loss: 0.0044 - accuracy: 1.0000 - val_loss: 0.5800 - val_accuracy: 0.7966\n",
            "Epoch 35/50\n",
            "11/11 [==============================] - 5s 425ms/step - loss: 0.0035 - accuracy: 1.0000 - val_loss: 0.5989 - val_accuracy: 0.8475\n",
            "Epoch 36/50\n",
            "11/11 [==============================] - 5s 454ms/step - loss: 0.0043 - accuracy: 1.0000 - val_loss: 0.5938 - val_accuracy: 0.8136\n",
            "Epoch 37/50\n",
            "11/11 [==============================] - 5s 447ms/step - loss: 0.0033 - accuracy: 1.0000 - val_loss: 0.5973 - val_accuracy: 0.8136\n",
            "Epoch 38/50\n",
            "11/11 [==============================] - 5s 424ms/step - loss: 0.0056 - accuracy: 1.0000 - val_loss: 0.6065 - val_accuracy: 0.8136\n",
            "Epoch 39/50\n",
            "11/11 [==============================] - 5s 436ms/step - loss: 0.0031 - accuracy: 1.0000 - val_loss: 0.6095 - val_accuracy: 0.8136\n",
            "Epoch 40/50\n",
            "11/11 [==============================] - 5s 421ms/step - loss: 0.0036 - accuracy: 1.0000 - val_loss: 0.6283 - val_accuracy: 0.8305\n",
            "Epoch 41/50\n",
            "11/11 [==============================] - 5s 418ms/step - loss: 0.0041 - accuracy: 1.0000 - val_loss: 0.6235 - val_accuracy: 0.8305\n",
            "Epoch 42/50\n",
            "11/11 [==============================] - 5s 439ms/step - loss: 0.0036 - accuracy: 1.0000 - val_loss: 0.6250 - val_accuracy: 0.8305\n",
            "Epoch 43/50\n",
            "11/11 [==============================] - 5s 424ms/step - loss: 0.0031 - accuracy: 1.0000 - val_loss: 0.6294 - val_accuracy: 0.8305\n",
            "Epoch 44/50\n",
            "11/11 [==============================] - 5s 434ms/step - loss: 0.0024 - accuracy: 1.0000 - val_loss: 0.6249 - val_accuracy: 0.8136\n",
            "Epoch 45/50\n",
            "11/11 [==============================] - 5s 439ms/step - loss: 0.0024 - accuracy: 1.0000 - val_loss: 0.6328 - val_accuracy: 0.8305\n",
            "Epoch 46/50\n",
            "11/11 [==============================] - 5s 430ms/step - loss: 0.0021 - accuracy: 1.0000 - val_loss: 0.6314 - val_accuracy: 0.8305\n",
            "Epoch 47/50\n",
            "11/11 [==============================] - 5s 442ms/step - loss: 0.0030 - accuracy: 1.0000 - val_loss: 0.6390 - val_accuracy: 0.8475\n",
            "Epoch 48/50\n",
            "11/11 [==============================] - 5s 429ms/step - loss: 0.0019 - accuracy: 1.0000 - val_loss: 0.6468 - val_accuracy: 0.8305\n",
            "Epoch 49/50\n",
            "11/11 [==============================] - 5s 436ms/step - loss: 0.0018 - accuracy: 1.0000 - val_loss: 0.6572 - val_accuracy: 0.8305\n",
            "Epoch 50/50\n",
            "11/11 [==============================] - 5s 423ms/step - loss: 0.0021 - accuracy: 1.0000 - val_loss: 0.6583 - val_accuracy: 0.8305\n"
          ]
        }
      ]
    },
    {
      "cell_type": "code",
      "source": [
        "history.history"
      ],
      "metadata": {
        "colab": {
          "base_uri": "https://localhost:8080/"
        },
        "id": "uPtlMbUEWp9V",
        "outputId": "9b9a176d-1ee8-4eea-d44f-7a2c6213655f"
      },
      "execution_count": null,
      "outputs": [
        {
          "output_type": "execute_result",
          "data": {
            "text/plain": [
              "{'loss': [3.9458396434783936,\n",
              "  0.7603649497032166,\n",
              "  0.33769461512565613,\n",
              "  0.22183512151241302,\n",
              "  0.16820064187049866,\n",
              "  0.13810138404369354,\n",
              "  0.10674174129962921,\n",
              "  0.108977310359478,\n",
              "  0.08976390957832336,\n",
              "  0.07741627842187881,\n",
              "  0.08005793392658234,\n",
              "  0.04243138059973717,\n",
              "  0.036698516458272934,\n",
              "  0.04088383540511131,\n",
              "  0.04322788119316101,\n",
              "  0.029785800725221634,\n",
              "  0.02568814903497696,\n",
              "  0.02911178022623062,\n",
              "  0.026638232171535492,\n",
              "  0.014560803771018982,\n",
              "  0.015341668389737606,\n",
              "  0.01285717822611332,\n",
              "  0.010815789923071861,\n",
              "  0.011455642990767956,\n",
              "  0.010338330641388893,\n",
              "  0.007740609347820282,\n",
              "  0.009495739825069904,\n",
              "  0.011349056847393513,\n",
              "  0.006942009087651968,\n",
              "  0.008821035735309124,\n",
              "  0.006872718222439289,\n",
              "  0.00564070837572217,\n",
              "  0.007262085098773241,\n",
              "  0.004448801279067993,\n",
              "  0.003516661934554577,\n",
              "  0.004306106828153133,\n",
              "  0.0032509416341781616,\n",
              "  0.005609909538179636,\n",
              "  0.003100085072219372,\n",
              "  0.0036298225168138742,\n",
              "  0.004139486234635115,\n",
              "  0.0036355932243168354,\n",
              "  0.0031332261860370636,\n",
              "  0.002399118384346366,\n",
              "  0.0023945800494402647,\n",
              "  0.002124984283000231,\n",
              "  0.003020218340680003,\n",
              "  0.0018515014089643955,\n",
              "  0.0018445615423843265,\n",
              "  0.002060212893411517],\n",
              " 'accuracy': [0.56083083152771,\n",
              "  0.5667656064033508,\n",
              "  0.8545994162559509,\n",
              "  0.9080118536949158,\n",
              "  0.9525222778320312,\n",
              "  0.9643917083740234,\n",
              "  0.9673590660095215,\n",
              "  0.9703264236450195,\n",
              "  0.9732937812805176,\n",
              "  0.9821958541870117,\n",
              "  0.9762611389160156,\n",
              "  0.9940652847290039,\n",
              "  0.997032642364502,\n",
              "  0.9910979270935059,\n",
              "  0.997032642364502,\n",
              "  1.0,\n",
              "  1.0,\n",
              "  0.997032642364502,\n",
              "  0.997032642364502,\n",
              "  1.0,\n",
              "  1.0,\n",
              "  1.0,\n",
              "  1.0,\n",
              "  1.0,\n",
              "  1.0,\n",
              "  1.0,\n",
              "  1.0,\n",
              "  0.997032642364502,\n",
              "  1.0,\n",
              "  0.997032642364502,\n",
              "  1.0,\n",
              "  1.0,\n",
              "  1.0,\n",
              "  1.0,\n",
              "  1.0,\n",
              "  1.0,\n",
              "  1.0,\n",
              "  1.0,\n",
              "  1.0,\n",
              "  1.0,\n",
              "  1.0,\n",
              "  1.0,\n",
              "  1.0,\n",
              "  1.0,\n",
              "  1.0,\n",
              "  1.0,\n",
              "  1.0,\n",
              "  1.0,\n",
              "  1.0,\n",
              "  1.0],\n",
              " 'val_loss': [1.2851825952529907,\n",
              "  0.47477278113365173,\n",
              "  0.40108251571655273,\n",
              "  0.3789306879043579,\n",
              "  0.38643547892570496,\n",
              "  0.3796985149383545,\n",
              "  0.4360893666744232,\n",
              "  0.3919532597064972,\n",
              "  0.4224252998828888,\n",
              "  0.47355955839157104,\n",
              "  0.4926074743270874,\n",
              "  0.42741990089416504,\n",
              "  0.4344971179962158,\n",
              "  0.441645085811615,\n",
              "  0.4611099064350128,\n",
              "  0.5051116347312927,\n",
              "  0.5400131940841675,\n",
              "  0.5369471907615662,\n",
              "  0.4858127534389496,\n",
              "  0.4832601249217987,\n",
              "  0.5000094175338745,\n",
              "  0.509227454662323,\n",
              "  0.5132396221160889,\n",
              "  0.5177246332168579,\n",
              "  0.5369061827659607,\n",
              "  0.5220205783843994,\n",
              "  0.5243873000144958,\n",
              "  0.5615812540054321,\n",
              "  0.5561683177947998,\n",
              "  0.5564616322517395,\n",
              "  0.5619171857833862,\n",
              "  0.5674534440040588,\n",
              "  0.57546067237854,\n",
              "  0.5799919366836548,\n",
              "  0.5988994240760803,\n",
              "  0.59380704164505,\n",
              "  0.5973414778709412,\n",
              "  0.6064592599868774,\n",
              "  0.6095433831214905,\n",
              "  0.6282634139060974,\n",
              "  0.623462438583374,\n",
              "  0.624975860118866,\n",
              "  0.6294145584106445,\n",
              "  0.6248564720153809,\n",
              "  0.6327935457229614,\n",
              "  0.6313969492912292,\n",
              "  0.6389691829681396,\n",
              "  0.6468198895454407,\n",
              "  0.657220721244812,\n",
              "  0.6583376526832581],\n",
              " 'val_accuracy': [0.49152541160583496,\n",
              "  0.7627118825912476,\n",
              "  0.7966101765632629,\n",
              "  0.8135592937469482,\n",
              "  0.8135592937469482,\n",
              "  0.8135592937469482,\n",
              "  0.8644067645072937,\n",
              "  0.8305084705352783,\n",
              "  0.8305084705352783,\n",
              "  0.8644067645072937,\n",
              "  0.8644067645072937,\n",
              "  0.8135592937469482,\n",
              "  0.8135592937469482,\n",
              "  0.8135592937469482,\n",
              "  0.7966101765632629,\n",
              "  0.7796609997749329,\n",
              "  0.8474576473236084,\n",
              "  0.8644067645072937,\n",
              "  0.7966101765632629,\n",
              "  0.8135592937469482,\n",
              "  0.8305084705352783,\n",
              "  0.8305084705352783,\n",
              "  0.8305084705352783,\n",
              "  0.7796609997749329,\n",
              "  0.8305084705352783,\n",
              "  0.7796609997749329,\n",
              "  0.7966101765632629,\n",
              "  0.8474576473236084,\n",
              "  0.7796609997749329,\n",
              "  0.7966101765632629,\n",
              "  0.8135592937469482,\n",
              "  0.7796609997749329,\n",
              "  0.8305084705352783,\n",
              "  0.7966101765632629,\n",
              "  0.8474576473236084,\n",
              "  0.8135592937469482,\n",
              "  0.8135592937469482,\n",
              "  0.8135592937469482,\n",
              "  0.8135592937469482,\n",
              "  0.8305084705352783,\n",
              "  0.8305084705352783,\n",
              "  0.8305084705352783,\n",
              "  0.8305084705352783,\n",
              "  0.8135592937469482,\n",
              "  0.8305084705352783,\n",
              "  0.8305084705352783,\n",
              "  0.8474576473236084,\n",
              "  0.8305084705352783,\n",
              "  0.8305084705352783,\n",
              "  0.8305084705352783]}"
            ]
          },
          "metadata": {},
          "execution_count": 43
        }
      ]
    },
    {
      "cell_type": "code",
      "source": [
        "import matplotlib.pyplot as plt"
      ],
      "metadata": {
        "id": "5eJemaXpVeux"
      },
      "execution_count": null,
      "outputs": []
    },
    {
      "cell_type": "code",
      "source": [
        "plt.plot(history.history['loss'], label = 'train loss')\n",
        "plt.plot(history.history['val_loss'], label = 'val loss')\n",
        "plt.legend()\n",
        "plt.show()\n",
        "plt.savefig(\"Loss graph\")"
      ],
      "metadata": {
        "colab": {
          "base_uri": "https://localhost:8080/",
          "height": 447
        },
        "id": "aj23rIyUWisa",
        "outputId": "9681f65c-eb5f-47da-edb6-1f78a89d6b83"
      },
      "execution_count": null,
      "outputs": [
        {
          "output_type": "display_data",
          "data": {
            "text/plain": [
              "<Figure size 640x480 with 1 Axes>"
            ],
            "image/png": "[encoded data removed]"
          },
          "metadata": {}
        },
        {
          "output_type": "display_data",
          "data": {
            "text/plain": [
              "<Figure size 640x480 with 0 Axes>"
            ]
          },
          "metadata": {}
        }
      ]
    },
    {
      "cell_type": "code",
      "source": [
        "plt.plot(history.history['accuracy'], label = 'train accuracy')\n",
        "plt.plot(history.history['val_accuracy'], label = 'val accuracy')\n",
        "plt.legend()\n",
        "plt.show()\n",
        "plt.savefig(\"accuracy graph\")"
      ],
      "metadata": {
        "colab": {
          "base_uri": "https://localhost:8080/",
          "height": 447
        },
        "id": "DzhZtocaXILq",
        "outputId": "9b417a57-0389-4f13-c01d-100711f1f94f"
      },
      "execution_count": null,
      "outputs": [
        {
          "output_type": "display_data",
          "data": {
            "text/plain": [
              "<Figure size 640x480 with 1 Axes>"
            ],
            "image/png": "[encoded data removed]"
          },
          "metadata": {}
        },
        {
          "output_type": "display_data",
          "data": {
            "text/plain": [
              "<Figure size 640x480 with 0 Axes>"
            ]
          },
          "metadata": {}
        }
      ]
    },
    {
      "cell_type": "code",
      "source": [
        "## Save model\n",
        "model.save(\"model_vgg16.h5\")"
      ],
      "metadata": {
        "colab": {
          "base_uri": "https://localhost:8080/"
        },
        "id": "aavmrs9mXlhx",
        "outputId": "22f3bd63-cbe3-48ee-e48d-030d93bcbe97"
      },
      "execution_count": null,
      "outputs": [
        {
          "output_type": "stream",
          "name": "stderr",
          "text": [
            "/usr/local/lib/python3.10/dist-packages/keras/src/engine/training.py:3103: UserWarning: You are saving your model as an HDF5 file via `model.save()`. This file format is considered legacy. We recommend using instead the native Keras format, e.g. `model.save('my_model.keras')`.\n",
            "  saving_api.save_model(\n"
          ]
        }
      ]
    },
    {
      "cell_type": "code",
      "source": [
        "# load model\n",
        "\n",
        "from tensorflow.keras.models import load_model\n",
        "\n",
        "model=load_model('model_vgg16.h5')"
      ],
      "metadata": {
        "id": "7bx9J1zxXxvC"
      },
      "execution_count": null,
      "outputs": []
    },
    {
      "cell_type": "code",
      "source": [
        "y_pred = model.predict(test_set)"
      ],
      "metadata": {
        "colab": {
          "base_uri": "https://localhost:8080/"
        },
        "id": "Ydnw4bcvYECp",
        "outputId": "78f8e22d-36e4-4741-a387-77981ff194b4"
      },
      "execution_count": null,
      "outputs": [
        {
          "output_type": "stream",
          "name": "stdout",
          "text": [
            "2/2 [==============================] - 0s 121ms/step\n"
          ]
        }
      ]
    },
    {
      "cell_type": "code",
      "source": [
        "y_pred"
      ],
      "metadata": {
        "colab": {
          "base_uri": "https://localhost:8080/"
        },
        "id": "TRsUMvxRYKwi",
        "outputId": "616cca72-5aec-44cb-a862-411aa3c23616"
      },
      "execution_count": null,
      "outputs": [
        {
          "output_type": "execute_result",
          "data": {
            "text/plain": [
              "array([[9.91317630e-01, 8.68241955e-03],\n",
              "       [1.09788104e-07, 9.99999881e-01],\n",
              "       [9.96379435e-01, 3.62052745e-03],\n",
              "       [9.98161376e-01, 1.83866883e-03],\n",
              "       [8.48112247e-10, 1.00000000e+00],\n",
              "       [3.82216007e-01, 6.17783964e-01],\n",
              "       [1.01837646e-02, 9.89816189e-01],\n",
              "       [8.18964317e-02, 9.18103635e-01],\n",
              "       [9.46833074e-01, 5.31669222e-02],\n",
              "       [7.88037121e-01, 2.11962909e-01],\n",
              "       [9.97379661e-01, 2.62039783e-03],\n",
              "       [5.77321392e-04, 9.99422669e-01],\n",
              "       [2.75857892e-04, 9.99724090e-01],\n",
              "       [1.07230962e-05, 9.99989271e-01],\n",
              "       [2.41106283e-02, 9.75889325e-01],\n",
              "       [9.99823749e-01, 1.76247340e-04],\n",
              "       [2.99977510e-05, 9.99969959e-01],\n",
              "       [2.71772896e-03, 9.97282267e-01],\n",
              "       [8.97491176e-04, 9.99102592e-01],\n",
              "       [3.15760326e-06, 9.99996901e-01],\n",
              "       [9.99891639e-01, 1.08307649e-04],\n",
              "       [4.13094554e-08, 1.00000000e+00],\n",
              "       [9.99977231e-01, 2.27864984e-05],\n",
              "       [9.78305757e-01, 2.16942579e-02],\n",
              "       [1.62944291e-02, 9.83705521e-01],\n",
              "       [8.57096820e-05, 9.99914289e-01],\n",
              "       [4.10541844e-07, 9.99999642e-01],\n",
              "       [1.32165451e-05, 9.99986768e-01],\n",
              "       [9.99993205e-01, 6.75769843e-06],\n",
              "       [4.81583794e-13, 1.00000000e+00],\n",
              "       [1.00753375e-07, 9.99999881e-01],\n",
              "       [9.99997854e-01, 2.12313557e-06],\n",
              "       [9.79595602e-01, 2.04044059e-02],\n",
              "       [9.99695539e-01, 3.04468122e-04],\n",
              "       [7.04813376e-02, 9.29518700e-01],\n",
              "       [9.99997616e-01, 2.35709922e-06],\n",
              "       [9.98930037e-01, 1.06999651e-03],\n",
              "       [1.52947905e-03, 9.98470485e-01],\n",
              "       [6.81296647e-01, 3.18703383e-01],\n",
              "       [7.58160695e-06, 9.99992371e-01],\n",
              "       [4.35590714e-01, 5.64409316e-01],\n",
              "       [5.50754189e-01, 4.49245781e-01],\n",
              "       [1.88976293e-04, 9.99810994e-01],\n",
              "       [9.99999523e-01, 5.04168099e-07],\n",
              "       [9.25358295e-01, 7.46416599e-02],\n",
              "       [9.98420596e-01, 1.57938804e-03],\n",
              "       [4.30833222e-03, 9.95691717e-01],\n",
              "       [9.97268200e-01, 2.73182546e-03],\n",
              "       [4.94752303e-02, 9.50524747e-01],\n",
              "       [8.97324562e-01, 1.02675430e-01],\n",
              "       [2.37411994e-04, 9.99762595e-01],\n",
              "       [9.71158128e-03, 9.90288377e-01],\n",
              "       [9.99933839e-01, 6.61584272e-05],\n",
              "       [9.99998093e-01, 1.95629218e-06],\n",
              "       [9.94990647e-01, 5.00933360e-03],\n",
              "       [5.00126421e-01, 4.99873579e-01],\n",
              "       [9.95471120e-01, 4.52894345e-03],\n",
              "       [4.72042143e-01, 5.27957857e-01],\n",
              "       [9.77976263e-01, 2.20236983e-02]], dtype=float32)"
            ]
          },
          "metadata": {},
          "execution_count": 50
        }
      ]
    },
    {
      "cell_type": "code",
      "source": [
        "y_pred = np.argmax(y_pred, axis = 1)"
      ],
      "metadata": {
        "id": "_uU5PvxXYMjE"
      },
      "execution_count": null,
      "outputs": []
    },
    {
      "cell_type": "code",
      "source": [
        "y_pred"
      ],
      "metadata": {
        "colab": {
          "base_uri": "https://localhost:8080/"
        },
        "id": "3vffITMqYWpR",
        "outputId": "d9e0cd9b-6d36-4d89-fc1a-699a6b8c72dc"
      },
      "execution_count": null,
      "outputs": [
        {
          "output_type": "execute_result",
          "data": {
            "text/plain": [
              "array([0, 1, 0, 0, 1, 1, 1, 1, 0, 0, 0, 1, 1, 1, 1, 0, 1, 1, 1, 1, 0, 1,\n",
              "       0, 0, 1, 1, 1, 1, 0, 1, 1, 0, 0, 0, 1, 0, 0, 1, 0, 1, 1, 0, 1, 0,\n",
              "       0, 0, 1, 0, 1, 0, 1, 1, 0, 0, 0, 0, 0, 1, 0])"
            ]
          },
          "metadata": {},
          "execution_count": 52
        }
      ]
    },
    {
      "cell_type": "code",
      "source": [
        "%ls"
      ],
      "metadata": {
        "colab": {
          "base_uri": "https://localhost:8080/"
        },
        "id": "RScPvBWFY_us",
        "outputId": "0e8cbcd5-0bad-4564-ee9d-798a3b8d308c"
      },
      "execution_count": null,
      "outputs": [
        {
          "output_type": "stream",
          "name": "stdout",
          "text": [
            "'accuracy graph.png'   dog.971.jpg                                    model_vgg16.h5\n",
            " cat.998.jpg          'Image Classification using Tensorflow.ipynb'   \u001b[0m\u001b[01;34mtrain\u001b[0m/\n",
            " cat-dog-data.zip     'Loss graph.png'                                \u001b[01;34mvalidation\u001b[0m/\n"
          ]
        }
      ]
    },
    {
      "cell_type": "code",
      "source": [
        "## load test image\n",
        "\n",
        "image_name = \"cat.998.jpg\""
      ],
      "metadata": {
        "id": "Jv8SWQYWYXka"
      },
      "execution_count": null,
      "outputs": []
    },
    {
      "cell_type": "code",
      "source": [
        "img = image.load_img(image_name, target_size=(224,224))"
      ],
      "metadata": {
        "id": "WXRTAN9SZD50"
      },
      "execution_count": null,
      "outputs": []
    },
    {
      "cell_type": "code",
      "source": [
        "x=image.img_to_array(img)\n",
        "x"
      ],
      "metadata": {
        "colab": {
          "base_uri": "https://localhost:8080/"
        },
        "id": "tp9ugI3EZRoh",
        "outputId": "ac9c0b46-d38a-487b-f9ec-012edc42b037"
      },
      "execution_count": null,
      "outputs": [
        {
          "output_type": "execute_result",
          "data": {
            "text/plain": [
              "array([[[241., 234., 242.],\n",
              "        [240., 233., 241.],\n",
              "        [238., 231., 239.],\n",
              "        ...,\n",
              "        [238., 232., 236.],\n",
              "        [241., 235., 239.],\n",
              "        [242., 236., 240.]],\n",
              "\n",
              "       [[240., 233., 241.],\n",
              "        [238., 231., 239.],\n",
              "        [235., 228., 236.],\n",
              "        ...,\n",
              "        [239., 233., 237.],\n",
              "        [240., 234., 238.],\n",
              "        [238., 232., 236.]],\n",
              "\n",
              "       [[241., 234., 242.],\n",
              "        [240., 233., 241.],\n",
              "        [238., 231., 239.],\n",
              "        ...,\n",
              "        [235., 229., 233.],\n",
              "        [235., 229., 233.],\n",
              "        [233., 227., 231.]],\n",
              "\n",
              "       ...,\n",
              "\n",
              "       [[240., 229., 223.],\n",
              "        [238., 227., 221.],\n",
              "        [236., 225., 219.],\n",
              "        ...,\n",
              "        [236., 229., 221.],\n",
              "        [236., 229., 221.],\n",
              "        [236., 229., 221.]],\n",
              "\n",
              "       [[238., 227., 225.],\n",
              "        [236., 225., 223.],\n",
              "        [235., 224., 222.],\n",
              "        ...,\n",
              "        [237., 230., 222.],\n",
              "        [236., 229., 221.],\n",
              "        [236., 229., 221.]],\n",
              "\n",
              "       [[236., 224., 224.],\n",
              "        [237., 225., 225.],\n",
              "        [239., 227., 227.],\n",
              "        ...,\n",
              "        [237., 230., 222.],\n",
              "        [236., 229., 221.],\n",
              "        [236., 229., 221.]]], dtype=float32)"
            ]
          },
          "metadata": {},
          "execution_count": 71
        }
      ]
    },
    {
      "cell_type": "code",
      "source": [
        "Z = plt.imread(image_name)\n",
        "plt.imshow(Z)"
      ],
      "metadata": {
        "colab": {
          "base_uri": "https://localhost:8080/",
          "height": 452
        },
        "id": "_M8yY7BqZU4y",
        "outputId": "1ac542e9-83cf-406f-c637-5affe5b8c947"
      },
      "execution_count": null,
      "outputs": [
        {
          "output_type": "execute_result",
          "data": {
            "text/plain": [
              "<matplotlib.image.AxesImage at 0x79877024d330>"
            ]
          },
          "metadata": {},
          "execution_count": 72
        },
        {
          "output_type": "display_data",
          "data": {
            "text/plain": [
              "<Figure size 640x480 with 1 Axes>"
            ],
            "image/png": "[encoded data removed]"
          },
          "metadata": {}
        }
      ]
    },
    {
      "cell_type": "code",
      "source": [
        "x.shape"
      ],
      "metadata": {
        "colab": {
          "base_uri": "https://localhost:8080/"
        },
        "id": "tmBQgq-3ZYIp",
        "outputId": "519802c6-94c2-418b-80e5-d407cdeccc42"
      },
      "execution_count": null,
      "outputs": [
        {
          "output_type": "execute_result",
          "data": {
            "text/plain": [
              "(224, 224, 3)"
            ]
          },
          "metadata": {},
          "execution_count": 73
        }
      ]
    },
    {
      "cell_type": "code",
      "source": [
        "x=x/255"
      ],
      "metadata": {
        "id": "3VIDsP8BZdIK"
      },
      "execution_count": null,
      "outputs": []
    },
    {
      "cell_type": "code",
      "source": [
        "from keras.applications.vgg16 import preprocess_input"
      ],
      "metadata": {
        "id": "2cBg-KJBZfUR"
      },
      "execution_count": null,
      "outputs": []
    },
    {
      "cell_type": "code",
      "source": [
        "import numpy as np\n",
        "x=np.expand_dims(x,axis=0)\n",
        "img_data=preprocess_input(x)\n",
        "img_data.shape"
      ],
      "metadata": {
        "colab": {
          "base_uri": "https://localhost:8080/"
        },
        "id": "-0nOV61sZh9Z",
        "outputId": "8c7849c6-71b1-474f-9415-55b841949276"
      },
      "execution_count": null,
      "outputs": [
        {
          "output_type": "execute_result",
          "data": {
            "text/plain": [
              "(1, 224, 224, 3)"
            ]
          },
          "metadata": {},
          "execution_count": 76
        }
      ]
    },
    {
      "cell_type": "code",
      "source": [
        "model.predict(img_data)"
      ],
      "metadata": {
        "colab": {
          "base_uri": "https://localhost:8080/"
        },
        "id": "lcioRwriZmyB",
        "outputId": "f6f10a76-3f1a-4262-9048-bd69186760ae"
      },
      "execution_count": null,
      "outputs": [
        {
          "output_type": "stream",
          "name": "stdout",
          "text": [
            "1/1 [==============================] - 0s 19ms/step\n"
          ]
        },
        {
          "output_type": "execute_result",
          "data": {
            "text/plain": [
              "array([[0.9735877 , 0.02641231]], dtype=float32)"
            ]
          },
          "metadata": {},
          "execution_count": 77
        }
      ]
    },
    {
      "cell_type": "code",
      "source": [
        "result = np.argmax(model.predict(img_data), axis=1)"
      ],
      "metadata": {
        "colab": {
          "base_uri": "https://localhost:8080/"
        },
        "id": "EHqkQ0IbZsnJ",
        "outputId": "313edda6-c091-4525-e180-3927aff8dc17"
      },
      "execution_count": null,
      "outputs": [
        {
          "output_type": "stream",
          "name": "stdout",
          "text": [
            "1/1 [==============================] - 0s 19ms/step\n"
          ]
        }
      ]
    },
    {
      "cell_type": "code",
      "source": [
        "result"
      ],
      "metadata": {
        "colab": {
          "base_uri": "https://localhost:8080/"
        },
        "id": "CfVDZTnUZvyp",
        "outputId": "7b02d5c3-5ab6-40bf-f853-90cfa2f56dca"
      },
      "execution_count": null,
      "outputs": [
        {
          "output_type": "execute_result",
          "data": {
            "text/plain": [
              "array([0])"
            ]
          },
          "metadata": {},
          "execution_count": 79
        }
      ]
    },
    {
      "cell_type": "code",
      "source": [
        "if result[0] == 1:\n",
        "    prediction = 'dog'\n",
        "    print(prediction)\n",
        "else:\n",
        "    prediction = 'cat'\n",
        "    print(prediction)"
      ],
      "metadata": {
        "colab": {
          "base_uri": "https://localhost:8080/"
        },
        "id": "EIr8ZzhbZw88",
        "outputId": "ddc63370-e20c-46b4-d2ed-02ebfc4f0340"
      },
      "execution_count": null,
      "outputs": [
        {
          "output_type": "stream",
          "name": "stdout",
          "text": [
            "cat\n"
          ]
        }
      ]
    },
    {
      "cell_type": "code",
      "source": [],
      "metadata": {
        "id": "EmDmJ50JZzQ6"
      },
      "execution_count": null,
      "outputs": []
    }
  ]
}